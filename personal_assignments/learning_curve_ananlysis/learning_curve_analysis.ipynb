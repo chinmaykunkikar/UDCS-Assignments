{
 "cells": [
  {
   "cell_type": "code",
   "execution_count": 1,
   "metadata": {},
   "outputs": [],
   "source": [
    "from fuzzywuzzy import fuzz\n",
    "import matplotlib.pyplot as plt\n",
    "import random\n",
    "import string\n",
    "import timeit"
   ]
  },
  {
   "cell_type": "code",
   "execution_count": 2,
   "metadata": {},
   "outputs": [],
   "source": [
    "# global variable for graph plotting\n",
    "time_list = []\n",
    "accuracy_list = []"
   ]
  },
  {
   "cell_type": "code",
   "execution_count": 3,
   "metadata": {},
   "outputs": [],
   "source": [
    "def sentence_map():\n",
    "    alphabet_list = list(string.ascii_lowercase) # generate a list of alphabet using string module\n",
    "    alphabet_image = alphabet_list.copy()\n",
    "    random.shuffle(alphabet_image) # shuffle the list to generate images\n",
    "\n",
    "    # append some common symbols to both the lists\n",
    "    common_symbols = ['!', '?', '.', ',', ' ']\n",
    "    alphabet_list.extend(common_symbols)\n",
    "    alphabet_image.extend(common_symbols)\n",
    "\n",
    "    orig_sentence = input(\"Enter a sentence to be mapped: \").lower() # accept a sentence (in lower case)\n",
    "\n",
    "    # print out a reference table of alphabet and their images\n",
    "    print(\"\")\n",
    "    print('Alphabet: ', *alphabet_list, sep='  ')\n",
    "    print('   Image: ', *alphabet_image, sep='  ')\n",
    "    print(\"\")\n",
    "\n",
    "    # accept a mapped sentence from user and time it.\n",
    "    time_start = timeit.default_timer() # start the timer\n",
    "    mapped_sentence = input(\"Now enter the mapped sentence: \").lower()\n",
    "    time_stop = timeit.default_timer() # stop the timer\n",
    "    time_total = time_stop - time_start\n",
    "\n",
    "    time_list.append(time_total)\n",
    "\n",
    "    # generate a 'required' sentence, i.e. the answer the user is supposed to enter.\n",
    "    rq_list = []\n",
    "    rq_sentence = \"\"\n",
    "    rq_list = [alphabet_image[alphabet_list.index(char)] for char in orig_sentence if (char in alphabet_list)]\n",
    "    for w in rq_list:\n",
    "        rq_sentence += w\n",
    "\n",
    "    # calculate accuracy using fuzzywuzzy module\n",
    "    accuracy = fuzz.ratio(rq_sentence, mapped_sentence)\n",
    "\n",
    "    accuracy_list.append(accuracy)\n",
    "\n",
    "    print(\"\\n-----------------------------------------------------------\")\n",
    "    print(\"Original sentence you entered is: \", orig_sentence)\n",
    "    print(\"Mapped sentence you entered is: \", mapped_sentence)\n",
    "    print(\"Required mapped sentence was: \", rq_sentence)\n",
    "    print(\"Time taken: {:.2f} seconds\".format(time_total))\n",
    "    print(\"You are {}% accurate.\".format(accuracy))\n",
    "    print(\"-----------------------------------------------------------\")\n",
    "    print(\"\")"
   ]
  },
  {
   "cell_type": "code",
   "execution_count": 4,
   "metadata": {},
   "outputs": [
    {
     "name": "stdout",
     "output_type": "stream",
     "text": [
      "Current iteration:  1\n",
      "Enter a sentence to be mapped: hello\n",
      "\n",
      "Alphabet:   a  b  c  d  e  f  g  h  i  j  k  l  m  n  o  p  q  r  s  t  u  v  w  x  y  z  !  ?  .  ,   \n",
      "   Image:   d  l  j  p  z  k  x  f  h  y  m  r  q  t  g  i  b  a  v  e  n  c  o  w  u  s  !  ?  .  ,   \n",
      "\n",
      "Now enter the mapped sentence: fzllo\n",
      "\n",
      "-----------------------------------------------------------\n",
      "Original sentence you entered is:  hello\n",
      "Mapped sentence you entered is:  fzllo\n",
      "Required mapped sentence was:  fzrrg\n",
      "Time taken: 7.56 seconds\n",
      "You are 40% accurate.\n",
      "-----------------------------------------------------------\n",
      "\n",
      "Current iteration:  2\n",
      "Enter a sentence to be mapped: good morning\n",
      "\n",
      "Alphabet:   a  b  c  d  e  f  g  h  i  j  k  l  m  n  o  p  q  r  s  t  u  v  w  x  y  z  !  ?  .  ,   \n",
      "   Image:   h  o  u  e  y  r  v  m  w  n  t  s  a  b  d  i  x  q  f  k  z  g  c  l  j  p  !  ?  .  ,   \n",
      "\n",
      "Now enter the mapped sentence: vdde aqning\n",
      "\n",
      "-----------------------------------------------------------\n",
      "Original sentence you entered is:  good morning\n",
      "Mapped sentence you entered is:  vdde aqning\n",
      "Required mapped sentence was:  vdde adqbwbv\n",
      "Time taken: 16.86 seconds\n",
      "You are 61% accurate.\n",
      "-----------------------------------------------------------\n",
      "\n",
      "Current iteration:  3\n",
      "Enter a sentence to be mapped: variable\n",
      "\n",
      "Alphabet:   a  b  c  d  e  f  g  h  i  j  k  l  m  n  o  p  q  r  s  t  u  v  w  x  y  z  !  ?  .  ,   \n",
      "   Image:   f  e  z  q  c  s  w  h  a  j  d  x  k  l  g  b  y  o  r  u  t  n  p  m  v  i  !  ?  .  ,   \n",
      "\n",
      "Now enter the mapped sentence: naoaexcc\n",
      "\n",
      "-----------------------------------------------------------\n",
      "Original sentence you entered is:  variable\n",
      "Mapped sentence you entered is:  naoaexcc\n",
      "Required mapped sentence was:  nfoafexc\n",
      "Time taken: 12.84 seconds\n",
      "You are 75% accurate.\n",
      "-----------------------------------------------------------\n",
      "\n",
      "Current iteration:  4\n",
      "Enter a sentence to be mapped: database\n",
      "\n",
      "Alphabet:   a  b  c  d  e  f  g  h  i  j  k  l  m  n  o  p  q  r  s  t  u  v  w  x  y  z  !  ?  .  ,   \n",
      "   Image:   p  q  y  n  m  i  b  s  u  a  j  z  o  e  v  d  t  w  k  c  h  r  g  f  l  x  !  ?  .  ,   \n",
      "\n",
      "Now enter the mapped sentence: npcpqpkm\n",
      "\n",
      "-----------------------------------------------------------\n",
      "Original sentence you entered is:  database\n",
      "Mapped sentence you entered is:  npcpqpkm\n",
      "Required mapped sentence was:  npcpqpkm\n",
      "Time taken: 14.29 seconds\n",
      "You are 100% accurate.\n",
      "-----------------------------------------------------------\n",
      "\n"
     ]
    }
   ],
   "source": [
    "# repeat the test 'n' times\n",
    "n = 4\n",
    "for itr in range(1, n+1) :\n",
    "    print(\"Current iteration: \", itr)\n",
    "    sentence_map()"
   ]
  },
  {
   "cell_type": "code",
   "execution_count": 5,
   "metadata": {},
   "outputs": [
    {
     "data": {
      "image/png": "[encoded data removed]",
      "text/plain": [
       "<Figure size 432x288 with 1 Axes>"
      ]
     },
     "metadata": {
      "needs_background": "light"
     },
     "output_type": "display_data"
    }
   ],
   "source": [
    "# now we show the graph\n",
    "plt.title(\"Time vs Accuracy graph\")\n",
    "plt.xlabel(\"Time\")\n",
    "plt.ylabel(\"Accuracy\")\n",
    "#plt.xticks(np.arange(4), ('I1', 'I2', 'I3', 'I4'))\n",
    "plt.plot(time_list)\n",
    "plt.plot(accuracy_list)\n",
    "plt.show()"
   ]
  },
  {
   "cell_type": "code",
   "execution_count": null,
   "metadata": {},
   "outputs": [],
   "source": []
  }
 ],
 "metadata": {
  "kernelspec": {
   "display_name": "Python 3",
   "language": "python",
   "name": "python3"
  },
  "language_info": {
   "codemirror_mode": {
    "name": "ipython",
    "version": 3
   },
   "file_extension": ".py",
   "mimetype": "text/x-python",
   "name": "python",
   "nbconvert_exporter": "python",
   "pygments_lexer": "ipython3",
   "version": "3.7.4"
  }
 },
 "nbformat": 4,
 "nbformat_minor": 2
}
